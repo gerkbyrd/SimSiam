{
  "cells": [
    {
      "cell_type": "code",
      "source": [
        "from google.colab import drive\n",
        "drive.mount('/content/drive', force_remount=True)"
      ],
      "metadata": {
        "id": "E9cfBPDJfUfd"
      },
      "execution_count": null,
      "outputs": []
    },
    {
      "cell_type": "code",
      "execution_count": null,
      "metadata": {
        "id": "17U8xUevAGgm"
      },
      "outputs": [],
      "source": [
        "import torch\n",
        "import torchvision.models as models\n",
        "import torch.nn.functional as F\n",
        "import torch.nn as nn\n",
        "import time\n",
        "dir = '/content/drive/MyDrive/SIMSIAM'"
      ]
    },
    {
      "cell_type": "markdown",
      "metadata": {
        "id": "BdJQxhd5NpFT"
      },
      "source": [
        "# Defining SiamSim"
      ]
    },
    {
      "cell_type": "code",
      "execution_count": null,
      "metadata": {
        "id": "7NQTh64pB1Qb"
      },
      "outputs": [],
      "source": [
        "class SiamSimModel(nn.Module):\n",
        "    def __init__(self, encoder, dim, pred_dim, last_dim, stop_grad=True, ditch_pred=False, bn_config='default'):\n",
        "        super().__init__()\n",
        "        #conditions:\n",
        "        self.ldim = last_dim\n",
        "        self.stop_grad = stop_grad\n",
        "        self.ditch_pred = ditch_pred\n",
        "\n",
        "\n",
        "        #encoder\n",
        "        self.encoder = encoder\n",
        "\n",
        "        if bn_config=='default':\n",
        "          #projectionMLP\n",
        "          self.projector = nn.Sequential(nn.Linear(last_dim, last_dim, bias=False),\n",
        "                                        nn.BatchNorm1d(last_dim),\n",
        "                                        nn.ReLU(inplace=True),\n",
        "                                        nn.Linear(last_dim, last_dim, bias=False),\n",
        "                                        nn.BatchNorm1d(last_dim),\n",
        "                                        nn.ReLU(inplace=True),\n",
        "                                        nn.Linear(last_dim, dim, bias=False),\n",
        "                                        nn.BatchNorm1d(dim))        \n",
        "        \n",
        "          #predictionMLP\n",
        "          self.predictor = nn.Sequential(nn.Linear(dim, pred_dim, bias=False),\n",
        "                                        nn.BatchNorm1d(pred_dim),\n",
        "                                        nn.ReLU(inplace=True),\n",
        "                                        nn.Linear(pred_dim, dim))\n",
        "        elif bn_config =='none':\n",
        "          #projectionMLP\n",
        "          self.projector = nn.Sequential(nn.Linear(last_dim, last_dim),\n",
        "                                        nn.ReLU(inplace=True),\n",
        "                                        nn.Linear(last_dim, last_dim),\n",
        "                                        nn.ReLU(inplace=True),\n",
        "                                        nn.Linear(last_dim, dim))        \n",
        "        \n",
        "          #predictionMLP\n",
        "          self.predictor = nn.Sequential(nn.Linear(dim, pred_dim),\n",
        "                                        nn.ReLU(inplace=True),\n",
        "                                        nn.Linear(pred_dim, dim))\n",
        "          \n",
        "        elif bn_config =='hidden':\n",
        "          #projectionMLP\n",
        "          self.projector = nn.Sequential(nn.Linear(last_dim, last_dim, bias=False),\n",
        "                                        nn.BatchNorm1d(last_dim),\n",
        "                                        nn.ReLU(inplace=True),\n",
        "                                        nn.Linear(last_dim, last_dim, bias=False),\n",
        "                                        nn.BatchNorm1d(last_dim),\n",
        "                                        nn.ReLU(inplace=True),\n",
        "                                        nn.Linear(last_dim, dim))        \n",
        "        \n",
        "          #predictionMLP\n",
        "          self.predictor = nn.Sequential(nn.Linear(dim, pred_dim, bias=False),\n",
        "                                        nn.BatchNorm1d(pred_dim),\n",
        "                                        nn.ReLU(inplace=True),\n",
        "                                        nn.Linear(pred_dim, dim))\n",
        "          \n",
        "        elif bn_config=='all':\n",
        "          #projectionMLP\n",
        "          self.projector = nn.Sequential(nn.Linear(last_dim, last_dim, bias=False),\n",
        "                                        nn.BatchNorm1d(last_dim),\n",
        "                                        nn.ReLU(inplace=True),\n",
        "                                        nn.Linear(last_dim, last_dim, bias=False),\n",
        "                                        nn.BatchNorm1d(last_dim),\n",
        "                                        nn.ReLU(inplace=True),\n",
        "                                        nn.Linear(last_dim, dim, bias=False),\n",
        "                                        nn.BatchNorm1d(dim))        \n",
        "        \n",
        "          #predictionMLP\n",
        "          self.predictor = nn.Sequential(nn.Linear(dim, pred_dim, bias=False),\n",
        "                                        nn.BatchNorm1d(pred_dim),\n",
        "                                        nn.ReLU(inplace=True),\n",
        "                                        nn.Linear(pred_dim, dim, bias=False),\n",
        "                                        nn.BatchNorm1d(dim))\n",
        "        else:\n",
        "          raise(\"Choose valid bn_config (default, none, hidden, all)\")\n",
        "\n",
        "\n",
        "    def forward(self, x1, x2):\n",
        "        z1 = self.projector(self.encoder(x1).view(-1, self.ldim))\n",
        "        z2 = self.projector(self.encoder(x2).view(-1, self.ldim))\n",
        "        if self.ditch_pred:\n",
        "          p1, p2 = z1, z2\n",
        "        else:\n",
        "          p1 = self.predictor(z1)\n",
        "          p2 = self.predictor(z2)\n",
        "        \n",
        "        if self.stop_grad:\n",
        "          return p1, p2, z1.detach(), z2.detach()\n",
        "        else:\n",
        "          return p1, p2, z1, z2\n"
      ]
    },
    {
      "cell_type": "code",
      "source": [
        "#(dis)similarity functions\n",
        "CosSim = nn.CosineSimilarity(dim=1)\n",
        "SoftMax = nn.Softmax(dim=1)\n",
        "LogSoftMax = nn.LogSoftmax(dim=1)\n",
        "def neg_cosine_sim(a,b):\n",
        "  return -CosSim(a, b)\n",
        "\n",
        "def cross_entropy_sim(a,b):\n",
        "  return -SoftMax(b)*LogSoftMax(a)"
      ],
      "metadata": {
        "id": "kGwEPx-WWC0i"
      },
      "execution_count": null,
      "outputs": []
    },
    {
      "cell_type": "code",
      "execution_count": null,
      "metadata": {
        "id": "DmlKyNNRLMyn"
      },
      "outputs": [],
      "source": [
        "dim=2048\n",
        "pred_dim = 512\n",
        "backbone = models.resnet18()\n",
        "last_dim=list(backbone.children())[-1].in_features\n",
        "\n",
        "encoder = torch.nn.Sequential(*(list(backbone.children())[:-1]))\n",
        "\n",
        "#settings:\n",
        "stop_grad = True#False #4.1: remove stop-grad -DONE\n",
        "ditch_pred = False#True #4.2a: remove predictor\n",
        "fix_pred = True#True #4.2b: fix predictor as rand init\n",
        "pred_lr = False#True #4.2c: use fixed lr for predictor (authors keep using it after!?) -DONE\n",
        "batch_size = 256#64#1024-4096 (whatever we get working) #4.3: batch-size variation\n",
        "bn_config = 'default'#'none'#'hidden'#'all' #4.4: batch norm configurations #NOTE: seems like bn=none collapses? and bn=all isnt unstable?\n",
        "sim_fun_flag = False#experiment 4.5: similarity function (use cross_entropy_sim)\n",
        "asymmetric = False#True #experiment 4.6: symmetrization\n",
        "\n",
        "model = SiamSimModel(encoder, dim, pred_dim, last_dim, stop_grad=stop_grad, \n",
        "                     ditch_pred = ditch_pred, bn_config=bn_config)\n",
        "if ditch_pred or fix_pred:\n",
        "  for p in model.predictor.parameters():\n",
        "    p.requires_grad = False\n",
        "  param_groups = [{'params': model.encoder.parameters(), 'name': 'encoder'},\n",
        "                  {'params': model.projector.parameters(), 'name': 'projector'}]\n",
        "else:\n",
        "  param_groups = [{'params': model.encoder.parameters(), 'name': 'encoder'},\n",
        "                  {'params': model.projector.parameters(), 'name': 'projector'},\n",
        "                  {'params': model.predictor.parameters(), 'name': 'predictor'}]\n",
        "\n",
        "#training settings:\n",
        "num_epochs = 1\n",
        "lr = 0.05*(batch_size/256)\n",
        "optimizer = torch.optim.SGD(param_groups, lr=lr, momentum=0.9, weight_decay=1e-4)\n",
        "device = torch.device('cuda')# if torch.cuda.is_available() else 'cpu')\n",
        "\n",
        "if sim_fun_flag:\n",
        "  sim_fun = cross_entropy_sim\n",
        "else:\n",
        "  sim_fun = neg_cosine_sim\n",
        "#name of the experiment to perform\n",
        "if not stop_grad:\n",
        "  setup = 'no_stopgrad'#4.1\n",
        "elif ditch_pred:\n",
        "  setup = 'no_pred'#4.2a\n",
        "elif fix_pred:\n",
        "  setup = 'fixed_pred'#4.2b\n",
        "elif pred_lr:\n",
        "  setup = 'pred_lr'#4.2c\n",
        "elif bn_config != 'default':\n",
        "  setup = 'bn_' + bn_config#4.3\n",
        "#elif batch_size != 256:\n",
        "#  setup = 'batchsize_'+str(batch_size)#4.4\n",
        "elif sim_fun_flag:\n",
        "  setup = 'sim_fun'#4.5\n",
        "elif asymmetric:\n",
        "  setup = 'asymmetric'#4.6\n",
        "else:\n",
        "  setup = 'base'"
      ]
    },
    {
      "cell_type": "code",
      "source": [
        "#cosine schedule for LR\n",
        "import math\n",
        "def update_lr(optimizer, current_e, total_e, max_lr, min_lr=0, pred_lr=False):\n",
        "  for g in optimizer.param_groups:\n",
        "    if g['name'] == 'predictor' and pred_lr:\n",
        "      pass\n",
        "    else:\n",
        "      g['lr'] = min_lr + 0.5*(max_lr-min_lr)*(1  + math.cos((math.pi*current_e)/total_e))"
      ],
      "metadata": {
        "id": "7SulEKn34AoV"
      },
      "execution_count": null,
      "outputs": []
    },
    {
      "cell_type": "markdown",
      "metadata": {
        "id": "WX5GL4_xNqkd"
      },
      "source": [
        "# Defining Data Loaders"
      ]
    },
    {
      "cell_type": "code",
      "execution_count": null,
      "metadata": {
        "id": "5y5WXGMdCBW2"
      },
      "outputs": [],
      "source": [
        "from PIL import ImageFilter\n",
        "import random\n",
        "import torchvision.datasets as datasets\n",
        "import torchvision.transforms as transforms\n",
        "import torchvision\n",
        "\n",
        "traindir = \"data\"\n",
        "normalize = transforms.Normalize(mean=[0.485, 0.456, 0.406],\n",
        "                                     std=[0.229, 0.224, 0.225])\n",
        "\n",
        "class GaussianBlur(object):\n",
        "    \"\"\"Gaussian blur augmentation in SimCLR https://arxiv.org/abs/2002.05709\"\"\"\n",
        "\n",
        "    def __init__(self, sigma=[.1, 2.]):\n",
        "        self.sigma = sigma\n",
        "\n",
        "    def __call__(self, x):\n",
        "        sigma = random.uniform(self.sigma[0], self.sigma[1])\n",
        "        x = x.filter(ImageFilter.GaussianBlur(radius=sigma))\n",
        "        return x\n",
        "\n",
        "\n",
        "augmentation = [\n",
        "        transforms.RandomResizedCrop(224, scale=(0.2, 1.)),\n",
        "        transforms.RandomApply([\n",
        "            transforms.ColorJitter(0.4, 0.4, 0.4, 0.1)  # not strengthened\n",
        "        ], p=0.8),\n",
        "        transforms.RandomGrayscale(p=0.2),\n",
        "        transforms.RandomApply([GaussianBlur([.1, 2.])], p=0.5),\n",
        "        transforms.RandomHorizontalFlip(),\n",
        "        transforms.ToTensor(),\n",
        "        normalize\n",
        "    ]\n",
        "\n",
        "class TwoCropsTransform:\n",
        "    \"\"\"Take two random crops of one image as the query and key.\"\"\"\n",
        "\n",
        "    def __init__(self, base_transform):\n",
        "        self.base_transform = base_transform\n",
        "\n",
        "    def __call__(self, x):\n",
        "        q = self.base_transform(x)\n",
        "        k = self.base_transform(x)\n",
        "        return [q, k]\n",
        "\n",
        "tranform = TwoCropsTransform(transforms.Compose(augmentation))\n",
        "train_dataset = torchvision.datasets.CIFAR100(root='./data', train=True,\n",
        "                                        download=True, transform=tranform)\n",
        "\n",
        "train_loader = torch.utils.data.DataLoader(\n",
        "        train_dataset, batch_size, shuffle=True,\n",
        "        num_workers=2, pin_memory=True, sampler=None, drop_last=True)"
      ]
    },
    {
      "cell_type": "markdown",
      "metadata": {
        "id": "tTxsvr6xNyCK"
      },
      "source": [
        "# Train Loop"
      ]
    },
    {
      "cell_type": "code",
      "execution_count": null,
      "metadata": {
        "id": "X2EQJ1OsK-vT",
        "jupyter": {
          "outputs_hidden": true
        },
        "tags": []
      },
      "outputs": [],
      "source": [
        "model= nn.DataParallel(model)\n",
        "model = model.to(device)\n",
        "\n",
        "\n",
        "for epoch in range(num_epochs):\n",
        "    model.train()\n",
        "    update_lr(optimizer=optimizer, current_e=epoch, \n",
        "              total_e=num_epochs, max_lr=lr, pred_lr=pred_lr)\n",
        "    for i, (images, _) in enumerate(train_loader):\n",
        "        start = time.time()\n",
        "        x1, x2 = images\n",
        "        x1, x2 = x1.to(device), x2.to(device)\n",
        "        p1, p2, z1, z2 = model(x1, x2)\n",
        "        if asymmetric:          \n",
        "          loss = sim_fun(p1, z2).mean()\n",
        "        else:\n",
        "          loss = (sim_fun(p1, z2).mean() + sim_fun(p2, z1).mean()) * 0.5\n",
        "        optimizer.zero_grad()\n",
        "        loss.backward()\n",
        "        optimizer.step()\n",
        "        if(i%10==0):\n",
        "          message = f\"epoch={epoch}/{num_epochs} step={i}/{len(train_loader)} loss={loss} time={time.time()-start} secs\"\n",
        "          print(message)\n",
        "    if setup=='base' or setup=='no_stopgrad' or epoch>=num_epochs-1 or epochs%20==0:\n",
        "      torch.save({\n",
        "          'epoch': epoch,\n",
        "          'model_state_dict': model.encoder.state_dict(),\n",
        "          'optimizer_state_dict': optimizer.state_dict(),\n",
        "          'loss': loss,\n",
        "          }, dir + f\"{setup}_checkpoint_{epoch}.pth\")"
      ]
    },
    {
      "cell_type": "markdown",
      "source": [
        "#MORE EXPERIMENTS 1 (smallest batchsize)"
      ],
      "metadata": {
        "id": "CK1184aS1rBN"
      }
    },
    {
      "cell_type": "code",
      "source": [
        "dim=2048\n",
        "pred_dim = 512\n",
        "backbone = models.resnet18()\n",
        "last_dim=list(backbone.children())[-1].in_features\n",
        "\n",
        "encoder = torch.nn.Sequential(*(list(backbone.children())[:-1]))\n",
        "\n",
        "#settings:\n",
        "stop_grad = True#False #4.1: remove stop-grad -DONE\n",
        "ditch_pred = False#True #4.2a: remove predictor\n",
        "fix_pred = False#True #4.2b: fix predictor as rand init\n",
        "pred_lr = True #4.2c: use fixed lr for predictor (authors keep using it after!?) -DONE\n",
        "batch_size = 64#1024-4096 (whatever we get working) #4.3: batch-size variation\n",
        "bn_config = 'default'#'none'#'hidden'#'all' #4.4: batch norm configurations #NOTE: seems like bn=none collapses? and bn=all isnt unstable?\n",
        "sim_fun_flag = False#experiment 4.5: similarity function (use cross_entropy_sim)\n",
        "asymmetric = False#True #experiment 4.6: symmetrization\n",
        "\n",
        "model = SiamSimModel(encoder, dim, pred_dim, last_dim, stop_grad=stop_grad, \n",
        "                     ditch_pred = ditch_pred, bn_config=bn_config)\n",
        "if ditch_pred or fix_pred:\n",
        "  for p in model.predictor.parameters():\n",
        "    p.requires_grad = False\n",
        "  param_groups = [{'params': model.encoder.parameters(), 'name': 'encoder'},\n",
        "                  {'params': model.projector.parameters(), 'name': 'projector'}]\n",
        "else:\n",
        "  param_groups = [{'params': model.encoder.parameters(), 'name': 'encoder'},\n",
        "                  {'params': model.projector.parameters(), 'name': 'projector'},\n",
        "                  {'params': model.predictor.parameters(), 'name': 'predictor'}]\n",
        "\n",
        "\n",
        "#training settings:\n",
        "#num_epochs = 20\n",
        "lr = 0.05*(batch_size/256)\n",
        "optimizer = torch.optim.SGD(param_groups, lr=lr, momentum=0.9, weight_decay=1e-4)\n",
        "device = torch.device('cuda')# if torch.cuda.is_available() else 'cpu')\n",
        "\n",
        "if sim_fun_flag:\n",
        "  sim_fun = cross_entropy_sim\n",
        "else:\n",
        "  sim_fun = neg_cosine_sim\n",
        "#name of the experiment to perform\n",
        "if not stop_grad:\n",
        "  setup = 'no_stopgrad'#4.1\n",
        "elif ditch_pred:\n",
        "  setup = 'no_pred'#4.2a\n",
        "elif fix_pred:\n",
        "  setup = 'fixed_pred'#4.2b\n",
        "#elif pred_lr:\n",
        "#  setup = 'pred_lr'#4.2c\n",
        "elif bn_config != 'default':\n",
        "  setup = 'bn_' + bn_config#4.3\n",
        "elif batch_size != 256:\n",
        "  setup = 'batchsize_'+str(batch_size)#4.4\n",
        "elif sim_fun_flag:\n",
        "  setup = 'sim_fun'#4.5\n",
        "elif asymmetric:\n",
        "  setup = 'asymmetric'#4.6\n",
        "else:\n",
        "  setup = 'base'"
      ],
      "metadata": {
        "id": "sMETnLma12xk"
      },
      "execution_count": null,
      "outputs": []
    },
    {
      "cell_type": "code",
      "source": [
        "model= nn.DataParallel(model)\n",
        "model = model.to(device)\n",
        "\n",
        "\n",
        "for epoch in range(num_epochs):\n",
        "    model.train()\n",
        "    update_lr(optimizer=optimizer, current_e=epoch, \n",
        "              total_e=num_epochs, max_lr=lr, pred_lr=pred_lr)\n",
        "    for i, (images, _) in enumerate(train_loader):\n",
        "        start = time.time()\n",
        "        x1, x2 = images\n",
        "        x1, x2 = x1.to(device), x2.to(device)\n",
        "        p1, p2, z1, z2 = model(x1, x2)\n",
        "        if asymmetric:          \n",
        "          loss = sim_fun(p1, z2).mean()\n",
        "        else:\n",
        "          loss = (sim_fun(p1, z2).mean() + sim_fun(p2, z1).mean()) * 0.5\n",
        "        optimizer.zero_grad()\n",
        "        loss.backward()\n",
        "        optimizer.step()\n",
        "        if(i%10==0):\n",
        "          message = f\"epoch={epoch}/{num_epochs} step={i}/{len(train_loader)} loss={loss} time={time.time()-start} secs\"\n",
        "          print(message)\n",
        "    if setup=='base' or setup=='no_stopgrad' or epoch>=num_epochs-1 or epochs%20==0:\n",
        "      torch.save({\n",
        "          'epoch': epoch,\n",
        "          'model_state_dict': model.encoder.state_dict(),\n",
        "          'optimizer_state_dict': optimizer.state_dict(),\n",
        "          'loss': loss,\n",
        "          }, dir + f\"{setup}_checkpoint_{epoch}.pth\")"
      ],
      "metadata": {
        "id": "gNqCeNEw34zg"
      },
      "execution_count": null,
      "outputs": []
    },
    {
      "cell_type": "markdown",
      "source": [
        "#MORE EXPERIMENTS 2 (largest batchsize)"
      ],
      "metadata": {
        "id": "H9NOw9Do1tuI"
      }
    },
    {
      "cell_type": "code",
      "source": [
        "dim=2048\n",
        "pred_dim = 512\n",
        "backbone = models.resnet18()\n",
        "last_dim=list(backbone.children())[-1].in_features\n",
        "\n",
        "encoder = torch.nn.Sequential(*(list(backbone.children())[:-1]))\n",
        "\n",
        "#settings:\n",
        "stop_grad = True#False #4.1: remove stop-grad -DONE\n",
        "ditch_pred = False#True #4.2a: remove predictor\n",
        "fix_pred = False#True #4.2b: fix predictor as rand init\n",
        "pred_lr = True #4.2c: use fixed lr for predictor (authors keep using it after!?) -DONE\n",
        "batch_size = 2048#1024-4096 (whatever we get working) #4.3: batch-size variation\n",
        "bn_config = 'default'#'none'#'hidden'#'all' #4.4: batch norm configurations #NOTE: seems like bn=none collapses? and bn=all isnt unstable?\n",
        "sim_fun_flag = False#experiment 4.5: similarity function (use cross_entropy_sim)\n",
        "asymmetric = False#True #experiment 4.6: symmetrization\n",
        "\n",
        "model = SiamSimModel(encoder, dim, pred_dim, last_dim, stop_grad=stop_grad, \n",
        "                     ditch_pred = ditch_pred, bn_config=bn_config)\n",
        "if ditch_pred or fix_pred:\n",
        "  for p in model.predictor.parameters():\n",
        "    p.requires_grad = False\n",
        "  param_groups = [{'params': model.encoder.parameters(), 'name': 'encoder'},\n",
        "                  {'params': model.projector.parameters(), 'name': 'projector'}]\n",
        "else:\n",
        "  param_groups = [{'params': model.encoder.parameters(), 'name': 'encoder'},\n",
        "                  {'params': model.projector.parameters(), 'name': 'projector'},\n",
        "                  {'params': model.predictor.parameters(), 'name': 'predictor'}]\n",
        "\n",
        "#training settings:\n",
        "#num_epochs = 20\n",
        "lr = 0.05*(batch_size/256)\n",
        "optimizer = torch.optim.SGD(param_groups, lr=lr, momentum=0.9, weight_decay=1e-4)\n",
        "device = torch.device('cuda')# if torch.cuda.is_available() else 'cpu')\n",
        "\n",
        "if sim_fun_flag:\n",
        "  sim_fun = cross_entropy_sim\n",
        "else:\n",
        "  sim_fun = neg_cosine_sim\n",
        "#name of the experiment to perform\n",
        "if not stop_grad:\n",
        "  setup = 'no_stopgrad'#4.1\n",
        "elif ditch_pred:\n",
        "  setup = 'no_pred'#4.2a\n",
        "elif fix_pred:\n",
        "  setup = 'fixed_pred'#4.2b\n",
        "#elif pred_lr:\n",
        "#  setup = 'pred_lr'#4.2c\n",
        "elif bn_config != 'default':\n",
        "  setup = 'bn_' + bn_config#4.3\n",
        "elif batch_size != 256:\n",
        "  setup = 'batchsize_'+str(batch_size)#4.4\n",
        "elif sim_fun_flag:\n",
        "  setup = 'sim_fun'#4.5\n",
        "elif asymmetric:\n",
        "  setup = 'asymmetric'#4.6\n",
        "else:\n",
        "  setup = 'base'"
      ],
      "metadata": {
        "id": "PPOMskTy385_"
      },
      "execution_count": null,
      "outputs": []
    },
    {
      "cell_type": "code",
      "source": [
        "model= nn.DataParallel(model)\n",
        "model = model.to(device)\n",
        "\n",
        "\n",
        "for epoch in range(num_epochs):\n",
        "    model.train()\n",
        "    update_lr(optimizer=optimizer, current_e=epoch, \n",
        "              total_e=num_epochs, max_lr=lr, pred_lr=pred_lr)\n",
        "    for i, (images, _) in enumerate(train_loader):\n",
        "        start = time.time()\n",
        "        x1, x2 = images\n",
        "        x1, x2 = x1.to(device), x2.to(device)\n",
        "        p1, p2, z1, z2 = model(x1, x2)\n",
        "        if asymmetric:          \n",
        "          loss = sim_fun(p1, z2).mean()\n",
        "        else:\n",
        "          loss = (sim_fun(p1, z2).mean() + sim_fun(p2, z1).mean()) * 0.5\n",
        "        optimizer.zero_grad()\n",
        "        loss.backward()\n",
        "        optimizer.step()\n",
        "        if(i%10==0):\n",
        "          message = f\"epoch={epoch}/{num_epochs} step={i}/{len(train_loader)} loss={loss} time={time.time()-start} secs\"\n",
        "          print(message)\n",
        "    if setup=='base' or setup=='no_stopgrad' or epoch>=num_epochs-1 or epochs%20==0:\n",
        "      torch.save({\n",
        "          'epoch': epoch,\n",
        "          'model_state_dict': model.encoder.state_dict(),\n",
        "          'optimizer_state_dict': optimizer.state_dict(),\n",
        "          'loss': loss,\n",
        "          }, dir + f\"{setup}_checkpoint_{epoch}.pth\")"
      ],
      "metadata": {
        "id": "v8pXpQcW4UA9"
      },
      "execution_count": null,
      "outputs": []
    },
    {
      "cell_type": "markdown",
      "source": [
        "#MORE EXPERIMENTS 3 (no batchnorm)"
      ],
      "metadata": {
        "id": "45_-Kjd21xb3"
      }
    },
    {
      "cell_type": "code",
      "source": [
        "dim=2048\n",
        "pred_dim = 512\n",
        "backbone = models.resnet18()\n",
        "last_dim=list(backbone.children())[-1].in_features\n",
        "\n",
        "encoder = torch.nn.Sequential(*(list(backbone.children())[:-1]))\n",
        "\n",
        "#settings:\n",
        "stop_grad = True#False #4.1: remove stop-grad -DONE\n",
        "ditch_pred = False#True #4.2a: remove predictor\n",
        "fix_pred = False#True #4.2b: fix predictor as rand init\n",
        "pred_lr = True #4.2c: use fixed lr for predictor (authors keep using it after!?) -DONE\n",
        "batch_size = 256#1024-4096 (whatever we get working) #4.3: batch-size variation\n",
        "bn_config = 'none'#'hidden'#'all' #4.4: batch norm configurations #NOTE: seems like bn=none collapses? and bn=all isnt unstable?\n",
        "sim_fun_flag = False#experiment 4.5: similarity function (use cross_entropy_sim)\n",
        "asymmetric = False#True #experiment 4.6: symmetrization\n",
        "\n",
        "model = SiamSimModel(encoder, dim, pred_dim, last_dim, stop_grad=stop_grad, \n",
        "                     ditch_pred = ditch_pred, bn_config=bn_config)\n",
        "if ditch_pred or fix_pred:\n",
        "  for p in model.predictor.parameters():\n",
        "    p.requires_grad = False\n",
        "  param_groups = [{'params': model.encoder.parameters(), 'name': 'encoder'},\n",
        "                  {'params': model.projector.parameters(), 'name': 'projector'}]\n",
        "else:\n",
        "  param_groups = [{'params': model.encoder.parameters(), 'name': 'encoder'},\n",
        "                  {'params': model.projector.parameters(), 'name': 'projector'},\n",
        "                  {'params': model.predictor.parameters(), 'name': 'predictor'}]\n",
        "\n",
        "#training settings:\n",
        "#num_epochs = 20\n",
        "lr = 0.05*(batch_size/256)\n",
        "optimizer = torch.optim.SGD(param_groups, lr=lr, momentum=0.9, weight_decay=1e-4)\n",
        "device = torch.device('cuda')# if torch.cuda.is_available() else 'cpu')\n",
        "\n",
        "if sim_fun_flag:\n",
        "  sim_fun = cross_entropy_sim\n",
        "else:\n",
        "  sim_fun = neg_cosine_sim\n",
        "#name of the experiment to perform\n",
        "if not stop_grad:\n",
        "  setup = 'no_stopgrad'#4.1\n",
        "elif ditch_pred:\n",
        "  setup = 'no_pred'#4.2a\n",
        "elif fix_pred:\n",
        "  setup = 'fixed_pred'#4.2b\n",
        "#elif pred_lr:\n",
        "#  setup = 'pred_lr'#4.2c\n",
        "elif bn_config != 'default':\n",
        "  setup = 'bn_' + bn_config#4.3\n",
        "elif batch_size != 256:\n",
        "  setup = 'batchsize_'+str(batch_size)#4.4\n",
        "elif sim_fun_flag:\n",
        "  setup = 'sim_fun'#4.5\n",
        "elif asymmetric:\n",
        "  setup = 'asymmetric'#4.6\n",
        "else:\n",
        "  setup = 'base'"
      ],
      "metadata": {
        "id": "3rsxZCPa4fgG"
      },
      "execution_count": null,
      "outputs": []
    },
    {
      "cell_type": "code",
      "source": [
        "model= nn.DataParallel(model)\n",
        "model = model.to(device)\n",
        "losses = []\n",
        "for epoch in range(num_epochs):\n",
        "    epoch_loss, epoch_count = 0, 0\n",
        "    model.train()\n",
        "    update_lr(optimizer=optimizer, current_e=epoch, \n",
        "              total_e=num_epochs, max_lr=lr, pred_lr=pred_lr)\n",
        "    for i, (images, _) in enumerate(train_loader):\n",
        "        start = time.time()\n",
        "        x1, x2 = images\n",
        "        x1, x2 = x1.to(device), x2.to(device)\n",
        "        p1, p2, z1, z2 = model(x1, x2)\n",
        "        if asymmetric:          \n",
        "          loss = sim_fun(p1, z2).mean()\n",
        "        else:\n",
        "          loss = (sim_fun(p1, z2).mean() + sim_fun(p2, z1).mean()) * 0.5\n",
        "        optimizer.zero_grad()\n",
        "        loss.backward()\n",
        "        optimizer.step()\n",
        "        epoch_loss += loss\n",
        "        epoch_count += 1\n",
        "        if(i%10==0):\n",
        "          message = f\"epoch={epoch}/{num_epochs} step={i}/{len(train_loader)} loss={loss} time={time.time()-start} secs\"\n",
        "          print(message)\n",
        "    losses.append(epoch_loss/epoch_count)\n",
        "    if setup=='base' or setup=='no_stopgrad' or epoch>=num_epochs-1 or epochs%20==0:\n",
        "      torch.save({\n",
        "          'epoch': epoch,\n",
        "          'model_state_dict': model.encoder.state_dict(),\n",
        "          'optimizer_state_dict': optimizer.state_dict(),\n",
        "          'loss': loss,\n",
        "          }, dir + f\"{setup}_checkpoint_{epoch}.pth\")"
      ],
      "metadata": {
        "id": "8I3cBuSQ4Yl1"
      },
      "execution_count": null,
      "outputs": []
    },
    {
      "cell_type": "code",
      "source": [
        "print(\"here we would like to learn something about \" + setup + \"!!!!!!!!!\")\n",
        "print(losses)"
      ],
      "metadata": {
        "id": "-Pwy9R5v6GDx"
      },
      "execution_count": null,
      "outputs": []
    },
    {
      "cell_type": "markdown",
      "source": [
        "#MORE EXPERIMENTS 4 (hidden batchnorm)"
      ],
      "metadata": {
        "id": "RIIjWbrj1z8P"
      }
    },
    {
      "cell_type": "code",
      "source": [
        "dim=2048\n",
        "pred_dim = 512\n",
        "backbone = models.resnet18()\n",
        "last_dim=list(backbone.children())[-1].in_features\n",
        "\n",
        "encoder = torch.nn.Sequential(*(list(backbone.children())[:-1]))\n",
        "\n",
        "#settings:\n",
        "stop_grad = True#False #4.1: remove stop-grad -DONE\n",
        "ditch_pred = False#True #4.2a: remove predictor\n",
        "fix_pred = False#True #4.2b: fix predictor as rand init\n",
        "pred_lr = True #4.2c: use fixed lr for predictor (authors keep using it after!?) -DONE\n",
        "batch_size = 256#1024-4096 (whatever we get working) #4.3: batch-size variation\n",
        "bn_config = 'hidden'#'none'#'hidden'#'all' #4.4: batch norm configurations #NOTE: seems like bn=none collapses? and bn=all isnt unstable?\n",
        "sim_fun_flag = False#experiment 4.5: similarity function (use cross_entropy_sim)\n",
        "asymmetric = False#True #experiment 4.6: symmetrization\n",
        "\n",
        "model = SiamSimModel(encoder, dim, pred_dim, last_dim, stop_grad=stop_grad, \n",
        "                     ditch_pred = ditch_pred, bn_config=bn_config)\n",
        "if ditch_pred or fix_pred:\n",
        "  for p in model.predictor.parameters():\n",
        "    p.requires_grad = False\n",
        "  param_groups = [{'params': model.encoder.parameters(), 'name': 'encoder'},\n",
        "                  {'params': model.projector.parameters(), 'name': 'projector'}]\n",
        "else:\n",
        "  param_groups = [{'params': model.encoder.parameters(), 'name': 'encoder'},\n",
        "                  {'params': model.projector.parameters(), 'name': 'projector'},\n",
        "                  {'params': model.predictor.parameters(), 'name': 'predictor'}]\n",
        "\n",
        "#training settings:\n",
        "#num_epochs = 20\n",
        "lr = 0.05*(batch_size/256)\n",
        "optimizer = torch.optim.SGD(param_groups, lr=lr, momentum=0.9, weight_decay=1e-4)\n",
        "device = torch.device('cuda')# if torch.cuda.is_available() else 'cpu')\n",
        "\n",
        "if sim_fun_flag:\n",
        "  sim_fun = cross_entropy_sim\n",
        "else:\n",
        "  sim_fun = neg_cosine_sim\n",
        "#name of the experiment to perform\n",
        "if not stop_grad:\n",
        "  setup = 'no_stopgrad'#4.1\n",
        "elif ditch_pred:\n",
        "  setup = 'no_pred'#4.2a\n",
        "elif fix_pred:\n",
        "  setup = 'fixed_pred'#4.2b\n",
        "#elif pred_lr:\n",
        "#  setup = 'pred_lr'#4.2c\n",
        "elif bn_config != 'default':\n",
        "  setup = 'bn_' + bn_config#4.3\n",
        "elif batch_size != 256:\n",
        "  setup = 'batchsize_'+str(batch_size)#4.4\n",
        "elif sim_fun_flag:\n",
        "  setup = 'sim_fun'#4.5\n",
        "elif asymmetric:\n",
        "  setup = 'asymmetric'#4.6\n",
        "else:\n",
        "  setup = 'base'"
      ],
      "metadata": {
        "id": "fJSGIx9P4rv8"
      },
      "execution_count": null,
      "outputs": []
    },
    {
      "cell_type": "code",
      "source": [
        "model= nn.DataParallel(model)\n",
        "model = model.to(device)\n",
        "losses = []\n",
        "for epoch in range(num_epochs):\n",
        "    epoch_loss, epoch_count = 0, 0\n",
        "    model.train()\n",
        "    update_lr(optimizer=optimizer, current_e=epoch, \n",
        "              total_e=num_epochs, max_lr=lr, pred_lr=pred_lr)\n",
        "    for i, (images, _) in enumerate(train_loader):\n",
        "        start = time.time()\n",
        "        x1, x2 = images\n",
        "        x1, x2 = x1.to(device), x2.to(device)\n",
        "        p1, p2, z1, z2 = model(x1, x2)\n",
        "        if asymmetric:          \n",
        "          loss = sim_fun(p1, z2).mean()\n",
        "        else:\n",
        "          loss = (sim_fun(p1, z2).mean() + sim_fun(p2, z1).mean()) * 0.5\n",
        "        optimizer.zero_grad()\n",
        "        loss.backward()\n",
        "        optimizer.step()\n",
        "        epoch_loss += loss\n",
        "        epoch_count += 1\n",
        "        if(i%10==0):\n",
        "          message = f\"epoch={epoch}/{num_epochs} step={i}/{len(train_loader)} loss={loss} time={time.time()-start} secs\"\n",
        "          print(message)\n",
        "    losses.append(epoch_loss/epoch_count)\n",
        "    if setup=='base' or setup=='no_stopgrad' or epoch>=num_epochs-1 or epochs%20==0:\n",
        "      torch.save({\n",
        "          'epoch': epoch,\n",
        "          'model_state_dict': model.encoder.state_dict(),\n",
        "          'optimizer_state_dict': optimizer.state_dict(),\n",
        "          'loss': loss,\n",
        "          }, dir + f\"{setup}_checkpoint_{epoch}.pth\")"
      ],
      "metadata": {
        "id": "8jJY2Koj4aUU"
      },
      "execution_count": null,
      "outputs": []
    },
    {
      "cell_type": "code",
      "source": [
        "print(\"here we would like to learn something about \" + setup + \"!!!!!!!!!\")\n",
        "print(losses)"
      ],
      "metadata": {
        "id": "XpWTde5-6Rxe"
      },
      "execution_count": null,
      "outputs": []
    },
    {
      "cell_type": "markdown",
      "source": [
        "#MORE EXPERIMENTS 5 (batchnorm everywhere)"
      ],
      "metadata": {
        "id": "SXjldMug6fUQ"
      }
    },
    {
      "cell_type": "code",
      "source": [
        "dim=2048\n",
        "pred_dim = 512\n",
        "backbone = models.resnet18()\n",
        "last_dim=list(backbone.children())[-1].in_features\n",
        "\n",
        "encoder = torch.nn.Sequential(*(list(backbone.children())[:-1]))\n",
        "\n",
        "#settings:\n",
        "stop_grad = True#False #4.1: remove stop-grad -DONE\n",
        "ditch_pred = False#True #4.2a: remove predictor\n",
        "fix_pred = False#True #4.2b: fix predictor as rand init\n",
        "pred_lr = True #4.2c: use fixed lr for predictor (authors keep using it after!?) -DONE\n",
        "batch_size = 256#1024-4096 (whatever we get working) #4.3: batch-size variation\n",
        "bn_config = 'all'#'none'#'hidden'#'all' #4.4: batch norm configurations #NOTE: seems like bn=none collapses? and bn=all isnt unstable?\n",
        "sim_fun_flag = False#experiment 4.5: similarity function (use cross_entropy_sim)\n",
        "asymmetric = False#True #experiment 4.6: symmetrization\n",
        "\n",
        "model = SiamSimModel(encoder, dim, pred_dim, last_dim, stop_grad=stop_grad, \n",
        "                     ditch_pred = ditch_pred, bn_config=bn_config)\n",
        "if ditch_pred or fix_pred:\n",
        "  for p in model.predictor.parameters():\n",
        "    p.requires_grad = False\n",
        "  param_groups = [{'params': model.encoder.parameters(), 'name': 'encoder'},\n",
        "                  {'params': model.projector.parameters(), 'name': 'projector'}]\n",
        "else:\n",
        "  param_groups = [{'params': model.encoder.parameters(), 'name': 'encoder'},\n",
        "                  {'params': model.projector.parameters(), 'name': 'projector'},\n",
        "                  {'params': model.predictor.parameters(), 'name': 'predictor'}]\n",
        "\n",
        "#training settings:\n",
        "#num_epochs = 20\n",
        "lr = 0.05*(batch_size/256)\n",
        "optimizer = torch.optim.SGD(param_groups, lr=lr, momentum=0.9, weight_decay=1e-4)\n",
        "device = torch.device('cuda')# if torch.cuda.is_available() else 'cpu')\n",
        "\n",
        "if sim_fun_flag:\n",
        "  sim_fun = cross_entropy_sim\n",
        "else:\n",
        "  sim_fun = neg_cosine_sim\n",
        "#name of the experiment to perform\n",
        "if not stop_grad:\n",
        "  setup = 'no_stopgrad'#4.1\n",
        "elif ditch_pred:\n",
        "  setup = 'no_pred'#4.2a\n",
        "elif fix_pred:\n",
        "  setup = 'fixed_pred'#4.2b\n",
        "#elif pred_lr:\n",
        "#  setup = 'pred_lr'#4.2c\n",
        "elif bn_config != 'default':\n",
        "  setup = 'bn_' + bn_config#4.3\n",
        "elif batch_size != 256:\n",
        "  setup = 'batchsize_'+str(batch_size)#4.4\n",
        "elif sim_fun_flag:\n",
        "  setup = 'sim_fun'#4.5\n",
        "elif asymmetric:\n",
        "  setup = 'asymmetric'#4.6\n",
        "else:\n",
        "  setup = 'base'"
      ],
      "metadata": {
        "id": "_Ru-pbKZ6fUR"
      },
      "execution_count": null,
      "outputs": []
    },
    {
      "cell_type": "code",
      "source": [
        "model= nn.DataParallel(model)\n",
        "model = model.to(device)\n",
        "losses = []\n",
        "for epoch in range(num_epochs):\n",
        "    epoch_loss, epoch_count = 0, 0\n",
        "    model.train()\n",
        "    update_lr(optimizer=optimizer, current_e=epoch, \n",
        "              total_e=num_epochs, max_lr=lr, pred_lr=pred_lr)\n",
        "    for i, (images, _) in enumerate(train_loader):\n",
        "        start = time.time()\n",
        "        x1, x2 = images\n",
        "        x1, x2 = x1.to(device), x2.to(device)\n",
        "        p1, p2, z1, z2 = model(x1, x2)\n",
        "        if asymmetric:          \n",
        "          loss = sim_fun(p1, z2).mean()\n",
        "        else:\n",
        "          loss = (sim_fun(p1, z2).mean() + sim_fun(p2, z1).mean()) * 0.5\n",
        "        optimizer.zero_grad()\n",
        "        loss.backward()\n",
        "        optimizer.step()\n",
        "        epoch_loss += loss\n",
        "        epoch_count += 1\n",
        "        if(i%10==0):\n",
        "          message = f\"epoch={epoch}/{num_epochs} step={i}/{len(train_loader)} loss={loss} time={time.time()-start} secs\"\n",
        "          print(message)\n",
        "    losses.append(epoch_loss/epoch_count)\n",
        "    if setup=='base' or setup=='no_stopgrad' or epoch>=num_epochs-1 or epochs%20==0:\n",
        "      torch.save({\n",
        "          'epoch': epoch,\n",
        "          'model_state_dict': model.encoder.state_dict(),\n",
        "          'optimizer_state_dict': optimizer.state_dict(),\n",
        "          'loss': loss,\n",
        "          }, dir + f\"{setup}_checkpoint_{epoch}.pth\")"
      ],
      "metadata": {
        "id": "th9JTDwa6fUR"
      },
      "execution_count": null,
      "outputs": []
    },
    {
      "cell_type": "code",
      "source": [
        "print(\"here we would like to learn something about \" + setup + \"!!!!!!!!!\")\n",
        "print(losses)"
      ],
      "metadata": {
        "id": "RR5IuQHj6fUR"
      },
      "execution_count": null,
      "outputs": []
    },
    {
      "cell_type": "markdown",
      "source": [
        "#Plots and stuff"
      ],
      "metadata": {
        "id": "QKPjYYeh4Qqt"
      }
    },
    {
      "cell_type": "code",
      "execution_count": null,
      "metadata": {
        "id": "-uy25GPQ4a67"
      },
      "outputs": [],
      "source": [
        "#import torch\n",
        "#import matplotlib.pyplot as plt"
      ]
    },
    {
      "cell_type": "code",
      "execution_count": null,
      "metadata": {
        "id": "uQuRVSOv4a67"
      },
      "outputs": [],
      "source": [
        "#checkpoint_19 = torch.load('checkpoint_19.pth')"
      ]
    },
    {
      "cell_type": "code",
      "execution_count": null,
      "metadata": {
        "id": "8aeiGmJq4a67"
      },
      "outputs": [],
      "source": [
        "#checkpoint_19.keys()"
      ]
    },
    {
      "cell_type": "code",
      "execution_count": null,
      "metadata": {
        "id": "YC_jVKHD4a67"
      },
      "outputs": [],
      "source": [
        "#losses = [0.0321]\n",
        "#print(f\"Epoch 0 Loss {losses[0]}\")\n",
        "#for i in range(20):\n",
        "#    checkpoint = torch.load(f'checkpoint_{i}.pth')\n",
        "#    loss = checkpoint[\"loss\"]\n",
        "#    print(f\"Epoch {i+1} Loss {loss}\")\n",
        "#    losses.append(loss.cpu().detach().numpy().item())"
      ]
    },
    {
      "cell_type": "code",
      "execution_count": null,
      "metadata": {
        "id": "Tq8QIfRk4a67"
      },
      "outputs": [],
      "source": [
        "#plt.plot(losses)"
      ]
    }
  ],
  "metadata": {
    "colab": {
      "collapsed_sections": [],
      "name": "SimSiamSequentialExperiments.ipynb",
      "provenance": []
    },
    "kernelspec": {
      "display_name": "Python 3 (ipykernel)",
      "language": "python",
      "name": "python3"
    },
    "language_info": {
      "codemirror_mode": {
        "name": "ipython",
        "version": 3
      },
      "file_extension": ".py",
      "mimetype": "text/x-python",
      "name": "python",
      "nbconvert_exporter": "python",
      "pygments_lexer": "ipython3",
      "version": "3.8.12"
    },
    "accelerator": "GPU"
  },
  "nbformat": 4,
  "nbformat_minor": 0
}